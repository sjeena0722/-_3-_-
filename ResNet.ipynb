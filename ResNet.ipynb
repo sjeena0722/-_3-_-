{
  "cells": [
    {
      "cell_type": "markdown",
      "metadata": {
        "id": "view-in-github",
        "colab_type": "text"
      },
      "source": [
        "<a href=\"https://colab.research.google.com/github/sjeena0722/3-min-pytorch/blob/main/ResNet.ipynb\" target=\"_parent\"><img src=\"https://colab.research.google.com/assets/colab-badge.svg\" alt=\"Open In Colab\"/></a>"
      ]
    },
    {
      "cell_type": "markdown",
      "source": [
        "## ResNet"
      ],
      "metadata": {
        "id": "1C1cXTKWd5eL"
      },
      "id": "1C1cXTKWd5eL"
    },
    {
      "cell_type": "code",
      "execution_count": null,
      "id": "87e85c2d-9d82-4f57-80b4-7ffdf1e3e3a9",
      "metadata": {
        "id": "87e85c2d-9d82-4f57-80b4-7ffdf1e3e3a9"
      },
      "outputs": [],
      "source": [
        "import torch\n",
        "import torch.nn as nn\n",
        "import torch.optim as optim\n",
        "import torch.nn.functional as F\n",
        "from torchvision import transforms, datasets, models"
      ]
    },
    {
      "cell_type": "code",
      "execution_count": null,
      "id": "6190bfc6-fdc0-441c-883b-73f9f99a2b11",
      "metadata": {
        "id": "6190bfc6-fdc0-441c-883b-73f9f99a2b11"
      },
      "outputs": [],
      "source": [
        "USE_CUDA = torch.cuda.is_available()\n",
        "DEVICE = torch.device(\"cuda\" if USE_CUDA else \"cpu\")"
      ]
    },
    {
      "cell_type": "markdown",
      "id": "b5ca2e62-c031-4aa5-b5ad-849b0ba30d3b",
      "metadata": {
        "id": "b5ca2e62-c031-4aa5-b5ad-849b0ba30d3b"
      },
      "source": [
        "##  하이퍼파라미터"
      ]
    },
    {
      "cell_type": "code",
      "execution_count": null,
      "id": "128207b2-edf4-4cc3-bd03-af3afb52bcd7",
      "metadata": {
        "id": "128207b2-edf4-4cc3-bd03-af3afb52bcd7"
      },
      "outputs": [],
      "source": [
        "EPOCHS     = 300\n",
        "BATCH_SIZE = 128"
      ]
    },
    {
      "cell_type": "markdown",
      "id": "e85e5cf6-67b3-4e34-b38a-e60f523912f6",
      "metadata": {
        "id": "e85e5cf6-67b3-4e34-b38a-e60f523912f6"
      },
      "source": [
        "## 데이터셋 불러오기"
      ]
    },
    {
      "cell_type": "markdown",
      "source": [
        "* CIFAR-10 데이터셋\n",
        "* 32x32 크기의 컬러 이미지 6만개\n",
        "* 자동차, 새, 고양이, 사슴 등 10가지 class 존재"
      ],
      "metadata": {
        "id": "zO7GCg-5eFsx"
      },
      "id": "zO7GCg-5eFsx"
    },
    {
      "cell_type": "code",
      "execution_count": null,
      "id": "a259dc9f-a721-4cc1-a63c-b2b0eccefc89",
      "metadata": {
        "colab": {
          "base_uri": "https://localhost:8080/",
          "height": 84,
          "referenced_widgets": [
            "fdfa1c7b79f9465aac5cff1f561784f1",
            "423796e7cc724c72bf054509abe3035c",
            "0ac0dd1892634d48ba77f54a408502b4",
            "3da1203e33f349fab86df50a5fe6df52",
            "b34d15b9f2a3474f9fd47afe31a5d930",
            "b30d94753122483faec77fcdd4ff6835",
            "6ca99abed1964dfdad2fe8472f987413",
            "5fc3486f026a4744a8fd1f23bf760bd9",
            "dcd676bcb9f144ccaad6bb3a911fc435",
            "d28eafda4a894c07a79e0eeb6b51967a",
            "ac82ac030036457e9a2ec6710bd021fc"
          ]
        },
        "id": "a259dc9f-a721-4cc1-a63c-b2b0eccefc89",
        "outputId": "30d375c7-b8e5-4ad1-9b18-b014a1a6ee91"
      },
      "outputs": [
        {
          "output_type": "stream",
          "name": "stdout",
          "text": [
            "Downloading https://www.cs.toronto.edu/~kriz/cifar-10-python.tar.gz to ./.data/cifar-10-python.tar.gz\n"
          ]
        },
        {
          "output_type": "display_data",
          "data": {
            "text/plain": [
              "  0%|          | 0/170498071 [00:00<?, ?it/s]"
            ],
            "application/vnd.jupyter.widget-view+json": {
              "version_major": 2,
              "version_minor": 0,
              "model_id": "fdfa1c7b79f9465aac5cff1f561784f1"
            }
          },
          "metadata": {}
        },
        {
          "output_type": "stream",
          "name": "stdout",
          "text": [
            "Extracting ./.data/cifar-10-python.tar.gz to ./.data\n"
          ]
        }
      ],
      "source": [
        "train_loader = torch.utils.data.DataLoader(\n",
        "    datasets.CIFAR10('./.data', # CIFAR 10 데이터 불러오기\n",
        "                   train=True,\n",
        "                   download=True,\n",
        "                   transform=transforms.Compose([ # 과적합을 방지하기 위해 RandomCrop과 RandomHorizontalFlip과 같은 noise를 추가\n",
        "                       transforms.RandomCrop(32, padding=4),\n",
        "                       transforms.RandomHorizontalFlip(),\n",
        "                       transforms.ToTensor(),\n",
        "                       transforms.Normalize((0.5, 0.5, 0.5),\n",
        "                                            (0.5, 0.5, 0.5))])),\n",
        "    batch_size=BATCH_SIZE, shuffle=True)\n",
        "\n",
        "test_loader = torch.utils.data.DataLoader(\n",
        "    datasets.CIFAR10('./.data',\n",
        "                   train=False, \n",
        "                   transform=transforms.Compose([\n",
        "                       transforms.ToTensor(),\n",
        "                       transforms.Normalize((0.5, 0.5, 0.5),\n",
        "                                            (0.5, 0.5, 0.5))])),\n",
        "    batch_size=BATCH_SIZE, shuffle=True)"
      ]
    },
    {
      "cell_type": "markdown",
      "id": "53c7dc49-2d7e-47f0-899d-ce0d14d0b2a3",
      "metadata": {
        "id": "53c7dc49-2d7e-47f0-899d-ce0d14d0b2a3"
      },
      "source": [
        "## ResNet 모델 만들기"
      ]
    },
    {
      "cell_type": "markdown",
      "source": [
        "![image.png](data:image/png;base64,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)\n"
      ],
      "metadata": {
        "id": "b85BpFabmVWl"
      },
      "id": "b85BpFabmVWl"
    },
    {
      "cell_type": "code",
      "execution_count": null,
      "id": "6645542f-470d-4f8f-bfab-4b87f15a995d",
      "metadata": {
        "id": "6645542f-470d-4f8f-bfab-4b87f15a995d"
      },
      "outputs": [],
      "source": [
        " class BasicBlock(nn.Module): # ResNet을 구성하는 기본 블럭\n",
        "     # CNN + Batch Normalizaiton + ReLU  \n",
        "    def __init__(self, in_planes, planes, stride=1):\n",
        "        super(BasicBlock, self).__init__()\n",
        "        self.conv1 = nn.Conv2d(in_planes, planes, kernel_size=3,\n",
        "                               stride=stride, padding=1, bias=False)\n",
        "        self.bn1 = nn.BatchNorm2d(planes)\n",
        "        #  배치 정규화(batch normalization)을 수행\n",
        "        # 자체적으로 정규화를 수행해 드롭아웃과 같은 효과\n",
        "\n",
        "        self.conv2 = nn.Conv2d(planes, planes, kernel_size=3,\n",
        "                               stride=1, padding=1, bias=False)\n",
        "        self.bn2 = nn.BatchNorm2d(planes)\n",
        "\n",
        "        self.shortcut = nn.Sequential() # nn.Sequential()은 여러 모듈(nn.Module)을 하나의 모듈로 엮는 역할\n",
        "        # 두번째 블록 부터는 in_planes()를 받아 self.bn2 계층과 출력크기가 같은 planes를 더해주는 self.shortcut모듈을 정의\n",
        "\n",
        "        if stride != 1 or in_planes != planes: # Conv + BN\n",
        "        # stride가 1이 아니라서 크기가 줄어들 경우 혹은 self.inplanes가 planes의 크기와 맞지 않을 때, conv1x1에 1이 아닌 stride를 가진 레이어로 downsampling함\n",
        "            self.shortcut = nn.Sequential(\n",
        "                nn.Conv2d(in_planes, planes,\n",
        "                          kernel_size=1, stride=stride, bias=False),\n",
        "                nn.BatchNorm2d(planes)\n",
        "            )\n",
        "\n",
        "    def forward(self, x):\n",
        "        out = F.relu(self.bn1(self.conv1(x))) # 입력x가 컨볼루션, 배치정규화, 활성화 함수를 거침\n",
        "        out = self.bn2(self.conv2(out)) # 다음 컨볼루션, 배치정규화를 거침\n",
        "        out += self.shortcut(x)  # 입력 x를 self.shortcut을 거치게 하여 크기를 같게하고 더해줌\n",
        "        out = F.relu(out) # 활성화함수를 통과시켜 최종출력 만듦\n",
        "        return out\n",
        "\n",
        "\n",
        "\n",
        "#  실제 ResNet 모델 정의 클래스\n",
        "#  BasicBlock 클래스는 self._make_layer() 함수를 통해 하나의 모듈로 객체화되어 ResNet 모델의 주요 층을 이룸\n",
        "class ResNet(nn.Module):\n",
        "    def __init__(self, num_classes=10):\n",
        "        super(ResNet, self).__init__()\n",
        "        self.in_planes = 16 \n",
        "        # self.in_planes 변수는 _make_layer 함수가 층을 만들 때 전 층의 채널 출력값을 기록하는데 쓰임\n",
        "        # layer1이 입력받는 채널의 개수가 16개이므로 16으로 초기화\n",
        "\n",
        "        self.conv1 = nn.Conv2d(3, 16, kernel_size=3,\n",
        "                               stride=1, padding=1, bias=False)\n",
        "        self.bn1 = nn.BatchNorm2d(16)\n",
        "        self.layer1 = self._make_layer(16, 2, stride=1)  # 출력 텐서 : 16x32x32\n",
        "        self.layer2 = self._make_layer(32, 2, stride=2)  # 출력 텐서 : 32x16x16\n",
        "        self.layer3 = self._make_layer(64, 2, stride=2)  # 출력 텐서 : 64x8x8\n",
        "        #self._make_layer()는 nn.Sequential의 도구로 여러 BasicBlock 모듈을 하나로 묶어주는 역할\n",
        "        # self.layer1~3은 컨볼루션 계층과 마찬가지로 모듈(nn.Module)로 취급\n",
        "\n",
        "        # layer1 : 16채널에서 16채널을 보내는 BasicBlock 2개\n",
        "        # layer2 : 16채널을 받아 32채널을 출력하는 BasicBlock 1개와 32채널에서 32채널을 내보내는 BasicBlock 1개\n",
        "        # layer3 : 32채널을 받아 64채널을 출력하는 BasicBlock 1개와 64채널에서 64채널을 출력하는 BasicBlock 1개\n",
        "        # 16->32, 32->64로 증가되는 Basic Block은 shortcut 모듈 보유\n",
        "\n",
        "        self.linear = nn.Linear(64, num_classes)\n",
        "\n",
        "    def _make_layer(self, planes, num_blocks, stride):\n",
        "      # _make_layer 함수 : 파이토치의 nn.Sequential()의 도구로, BasicBlock을 모듈 하나로 묶어주는 역할\n",
        "      # _make_layer 함수는 self.in_planes 채널 개수로부터 직접 입력받은 인수인 planes 채널 개수만큼을 출력하는 BasicBlock을 생성\n",
        "        strides = [stride] + [1]*(num_blocks-1)\n",
        "        layers = []\n",
        "        for stride in strides:\n",
        "            layers.append(BasicBlock(self.in_planes, planes, stride))\n",
        "            self.in_planes = planes\n",
        "        return nn.Sequential(*layers)\n",
        "\n",
        "\n",
        "    def forward(self, x):\n",
        "        out = F.relu(self.bn1(self.conv1(x))) #x: 3x32x32\n",
        "        out = self.layer1(out) # 출력 텐서 : 16x32x32\n",
        "        out = self.layer2(out) # 출력 텐서 : 32x16x16\n",
        "        out = self.layer3(out) # 출력 텐서 : 64x8x8\n",
        "        out = F.avg_pool2d(out, 8) # average pooling => 원소의 개수 64개\n",
        "        out = out.view(out.size(0), -1)\n",
        "        out = self.linear(out) # label 10개마다 예측값 생성\n",
        "        return out"
      ]
    },
    {
      "cell_type": "markdown",
      "id": "d0395f67-234b-4ab9-b196-7950da23dc28",
      "metadata": {
        "id": "d0395f67-234b-4ab9-b196-7950da23dc28"
      },
      "source": [
        "## 준비\n"
      ]
    },
    {
      "cell_type": "code",
      "execution_count": null,
      "id": "2a1109bd-a2b8-4dc6-bc6c-aa2f5ce25041",
      "metadata": {
        "id": "2a1109bd-a2b8-4dc6-bc6c-aa2f5ce25041"
      },
      "outputs": [],
      "source": [
        "model = ResNet().to(DEVICE)\n",
        "optimizer = optim.SGD(model.parameters(), lr=0.1,\n",
        "                      momentum=0.9, weight_decay=0.0005)\n",
        "scheduler = optim.lr_scheduler.StepLR(optimizer, step_size=50, gamma=0.1)\n",
        "# 에폭마다 호출되며 step_size를 50으로 지정해 50번 호출될 때 학습률에 0.1(gamma)만큼 곱함\n",
        "# 0.1로 시작한 학습률은 50에폭 이후에 0.1 x 0.1 = 0.01로 낮아짐 => 더 정교하게 최적화"
      ]
    },
    {
      "cell_type": "code",
      "execution_count": null,
      "id": "bdd19a65-4d96-43b5-8864-4def724de737",
      "metadata": {
        "colab": {
          "base_uri": "https://localhost:8080/"
        },
        "id": "bdd19a65-4d96-43b5-8864-4def724de737",
        "outputId": "6864b5c3-25c0-43de-daa8-a0bca5c78c44"
      },
      "outputs": [
        {
          "output_type": "stream",
          "name": "stdout",
          "text": [
            "ResNet(\n",
            "  (conv1): Conv2d(3, 16, kernel_size=(3, 3), stride=(1, 1), padding=(1, 1), bias=False)\n",
            "  (bn1): BatchNorm2d(16, eps=1e-05, momentum=0.1, affine=True, track_running_stats=True)\n",
            "  (layer1): Sequential(\n",
            "    (0): BasicBlock(\n",
            "      (conv1): Conv2d(16, 16, kernel_size=(3, 3), stride=(1, 1), padding=(1, 1), bias=False)\n",
            "      (bn1): BatchNorm2d(16, eps=1e-05, momentum=0.1, affine=True, track_running_stats=True)\n",
            "      (conv2): Conv2d(16, 16, kernel_size=(3, 3), stride=(1, 1), padding=(1, 1), bias=False)\n",
            "      (bn2): BatchNorm2d(16, eps=1e-05, momentum=0.1, affine=True, track_running_stats=True)\n",
            "      (shortcut): Sequential()\n",
            "    )\n",
            "    (1): BasicBlock(\n",
            "      (conv1): Conv2d(16, 16, kernel_size=(3, 3), stride=(1, 1), padding=(1, 1), bias=False)\n",
            "      (bn1): BatchNorm2d(16, eps=1e-05, momentum=0.1, affine=True, track_running_stats=True)\n",
            "      (conv2): Conv2d(16, 16, kernel_size=(3, 3), stride=(1, 1), padding=(1, 1), bias=False)\n",
            "      (bn2): BatchNorm2d(16, eps=1e-05, momentum=0.1, affine=True, track_running_stats=True)\n",
            "      (shortcut): Sequential()\n",
            "    )\n",
            "  )\n",
            "  (layer2): Sequential(\n",
            "    (0): BasicBlock(\n",
            "      (conv1): Conv2d(16, 32, kernel_size=(3, 3), stride=(2, 2), padding=(1, 1), bias=False)\n",
            "      (bn1): BatchNorm2d(32, eps=1e-05, momentum=0.1, affine=True, track_running_stats=True)\n",
            "      (conv2): Conv2d(32, 32, kernel_size=(3, 3), stride=(1, 1), padding=(1, 1), bias=False)\n",
            "      (bn2): BatchNorm2d(32, eps=1e-05, momentum=0.1, affine=True, track_running_stats=True)\n",
            "      (shortcut): Sequential(\n",
            "        (0): Conv2d(16, 32, kernel_size=(1, 1), stride=(2, 2), bias=False)\n",
            "        (1): BatchNorm2d(32, eps=1e-05, momentum=0.1, affine=True, track_running_stats=True)\n",
            "      )\n",
            "    )\n",
            "    (1): BasicBlock(\n",
            "      (conv1): Conv2d(32, 32, kernel_size=(3, 3), stride=(1, 1), padding=(1, 1), bias=False)\n",
            "      (bn1): BatchNorm2d(32, eps=1e-05, momentum=0.1, affine=True, track_running_stats=True)\n",
            "      (conv2): Conv2d(32, 32, kernel_size=(3, 3), stride=(1, 1), padding=(1, 1), bias=False)\n",
            "      (bn2): BatchNorm2d(32, eps=1e-05, momentum=0.1, affine=True, track_running_stats=True)\n",
            "      (shortcut): Sequential()\n",
            "    )\n",
            "  )\n",
            "  (layer3): Sequential(\n",
            "    (0): BasicBlock(\n",
            "      (conv1): Conv2d(32, 64, kernel_size=(3, 3), stride=(2, 2), padding=(1, 1), bias=False)\n",
            "      (bn1): BatchNorm2d(64, eps=1e-05, momentum=0.1, affine=True, track_running_stats=True)\n",
            "      (conv2): Conv2d(64, 64, kernel_size=(3, 3), stride=(1, 1), padding=(1, 1), bias=False)\n",
            "      (bn2): BatchNorm2d(64, eps=1e-05, momentum=0.1, affine=True, track_running_stats=True)\n",
            "      (shortcut): Sequential(\n",
            "        (0): Conv2d(32, 64, kernel_size=(1, 1), stride=(2, 2), bias=False)\n",
            "        (1): BatchNorm2d(64, eps=1e-05, momentum=0.1, affine=True, track_running_stats=True)\n",
            "      )\n",
            "    )\n",
            "    (1): BasicBlock(\n",
            "      (conv1): Conv2d(64, 64, kernel_size=(3, 3), stride=(1, 1), padding=(1, 1), bias=False)\n",
            "      (bn1): BatchNorm2d(64, eps=1e-05, momentum=0.1, affine=True, track_running_stats=True)\n",
            "      (conv2): Conv2d(64, 64, kernel_size=(3, 3), stride=(1, 1), padding=(1, 1), bias=False)\n",
            "      (bn2): BatchNorm2d(64, eps=1e-05, momentum=0.1, affine=True, track_running_stats=True)\n",
            "      (shortcut): Sequential()\n",
            "    )\n",
            "  )\n",
            "  (linear): Linear(in_features=64, out_features=10, bias=True)\n",
            ")\n"
          ]
        }
      ],
      "source": [
        "print(model)"
      ]
    },
    {
      "cell_type": "markdown",
      "id": "08f42022-d807-437d-b726-9203585bd9a0",
      "metadata": {
        "id": "08f42022-d807-437d-b726-9203585bd9a0"
      },
      "source": [
        "## 학습하기"
      ]
    },
    {
      "cell_type": "code",
      "execution_count": null,
      "id": "252de271-18a2-4518-8724-da58fb329338",
      "metadata": {
        "id": "252de271-18a2-4518-8724-da58fb329338"
      },
      "outputs": [],
      "source": [
        "def train(model, train_loader, optimizer, epoch):\n",
        "    model.train()\n",
        "    for batch_idx, (data, target) in enumerate(train_loader):\n",
        "        data, target = data.to(DEVICE), target.to(DEVICE)\n",
        "        optimizer.zero_grad()\n",
        "        output = model(data)\n",
        "        loss = F.cross_entropy(output, target)\n",
        "        loss.backward()\n",
        "        optimizer.step()"
      ]
    },
    {
      "cell_type": "markdown",
      "id": "a5e5adba-5090-472d-8e5f-8d56ce3236a2",
      "metadata": {
        "id": "a5e5adba-5090-472d-8e5f-8d56ce3236a2"
      },
      "source": [
        "## 테스트하기"
      ]
    },
    {
      "cell_type": "code",
      "execution_count": null,
      "id": "fc08022d-e499-4de4-8cff-ee53767b3969",
      "metadata": {
        "id": "fc08022d-e499-4de4-8cff-ee53767b3969"
      },
      "outputs": [],
      "source": [
        "def evaluate(model, test_loader):\n",
        "    model.eval()\n",
        "    test_loss = 0\n",
        "    correct = 0\n",
        "    with torch.no_grad():\n",
        "        for data, target in test_loader:\n",
        "            data, target = data.to(DEVICE), target.to(DEVICE)\n",
        "            output = model(data)\n",
        "\n",
        "            # 배치 오차를 합산\n",
        "            test_loss += F.cross_entropy(output, target,\n",
        "                                         reduction='sum').item()\n",
        "\n",
        "            # 가장 높은 값을 가진 인덱스가 바로 예측값\n",
        "            pred = output.max(1, keepdim=True)[1]\n",
        "            correct += pred.eq(target.view_as(pred)).sum().item()\n",
        "\n",
        "    test_loss /= len(test_loader.dataset)\n",
        "    test_accuracy = 100. * correct / len(test_loader.dataset)\n",
        "    return test_loss, test_accuracy"
      ]
    },
    {
      "cell_type": "markdown",
      "id": "192ae8b0-3a52-49c7-97b1-f20a8d7cd25b",
      "metadata": {
        "id": "192ae8b0-3a52-49c7-97b1-f20a8d7cd25b"
      },
      "source": [
        "## 코드 돌려보기"
      ]
    },
    {
      "cell_type": "code",
      "execution_count": null,
      "id": "b367c70b-5018-4463-a5ff-030c3430f838",
      "metadata": {
        "colab": {
          "base_uri": "https://localhost:8080/"
        },
        "id": "b367c70b-5018-4463-a5ff-030c3430f838",
        "outputId": "e4ae6a60-87ea-4cde-eafa-0597de508783"
      },
      "outputs": [
        {
          "output_type": "stream",
          "name": "stderr",
          "text": [
            "/usr/local/lib/python3.7/dist-packages/torch/optim/lr_scheduler.py:136: UserWarning: Detected call of `lr_scheduler.step()` before `optimizer.step()`. In PyTorch 1.1.0 and later, you should call them in the opposite order: `optimizer.step()` before `lr_scheduler.step()`.  Failure to do this will result in PyTorch skipping the first value of the learning rate schedule. See more details at https://pytorch.org/docs/stable/optim.html#how-to-adjust-learning-rate\n",
            "  \"https://pytorch.org/docs/stable/optim.html#how-to-adjust-learning-rate\", UserWarning)\n"
          ]
        },
        {
          "output_type": "stream",
          "name": "stdout",
          "text": [
            "[1] Test Loss: 1.5139, Accuracy: 46.31%\n",
            "[2] Test Loss: 1.2233, Accuracy: 57.80%\n",
            "[3] Test Loss: 1.1102, Accuracy: 63.13%\n",
            "[4] Test Loss: 1.0025, Accuracy: 67.09%\n",
            "[5] Test Loss: 0.8006, Accuracy: 72.79%\n",
            "[6] Test Loss: 0.9182, Accuracy: 70.20%\n",
            "[7] Test Loss: 1.0312, Accuracy: 67.37%\n",
            "[8] Test Loss: 0.7972, Accuracy: 73.91%\n",
            "[9] Test Loss: 0.8377, Accuracy: 71.27%\n",
            "[10] Test Loss: 0.8923, Accuracy: 71.45%\n",
            "[11] Test Loss: 0.8335, Accuracy: 73.31%\n",
            "[12] Test Loss: 0.7261, Accuracy: 75.73%\n",
            "[13] Test Loss: 0.7722, Accuracy: 73.76%\n",
            "[14] Test Loss: 0.6524, Accuracy: 77.09%\n",
            "[15] Test Loss: 0.6766, Accuracy: 77.10%\n",
            "[16] Test Loss: 0.6737, Accuracy: 77.09%\n",
            "[17] Test Loss: 0.7457, Accuracy: 75.98%\n",
            "[18] Test Loss: 0.7711, Accuracy: 75.57%\n",
            "[19] Test Loss: 0.8879, Accuracy: 72.66%\n",
            "[20] Test Loss: 0.6348, Accuracy: 78.73%\n",
            "[21] Test Loss: 0.7589, Accuracy: 74.89%\n",
            "[22] Test Loss: 0.7029, Accuracy: 76.49%\n",
            "[23] Test Loss: 0.6839, Accuracy: 76.66%\n",
            "[24] Test Loss: 0.6105, Accuracy: 79.57%\n",
            "[25] Test Loss: 0.6884, Accuracy: 76.91%\n",
            "[26] Test Loss: 0.6769, Accuracy: 76.70%\n",
            "[27] Test Loss: 0.7538, Accuracy: 75.97%\n",
            "[28] Test Loss: 0.7339, Accuracy: 76.67%\n",
            "[29] Test Loss: 0.9208, Accuracy: 70.33%\n",
            "[30] Test Loss: 0.6907, Accuracy: 77.12%\n",
            "[31] Test Loss: 1.0104, Accuracy: 69.86%\n",
            "[32] Test Loss: 0.8430, Accuracy: 73.29%\n",
            "[33] Test Loss: 0.8238, Accuracy: 72.95%\n",
            "[34] Test Loss: 0.6849, Accuracy: 76.82%\n",
            "[35] Test Loss: 0.6295, Accuracy: 78.93%\n",
            "[36] Test Loss: 0.7383, Accuracy: 75.87%\n",
            "[37] Test Loss: 0.6562, Accuracy: 77.81%\n",
            "[38] Test Loss: 0.7657, Accuracy: 76.18%\n",
            "[39] Test Loss: 0.9764, Accuracy: 71.21%\n",
            "[40] Test Loss: 0.8141, Accuracy: 74.49%\n",
            "[41] Test Loss: 0.8901, Accuracy: 71.88%\n",
            "[42] Test Loss: 1.0431, Accuracy: 69.17%\n",
            "[43] Test Loss: 0.6472, Accuracy: 78.90%\n",
            "[44] Test Loss: 0.7540, Accuracy: 76.44%\n",
            "[45] Test Loss: 0.5476, Accuracy: 81.69%\n",
            "[46] Test Loss: 0.5676, Accuracy: 80.55%\n",
            "[47] Test Loss: 0.6885, Accuracy: 77.05%\n",
            "[48] Test Loss: 0.6655, Accuracy: 77.45%\n",
            "[49] Test Loss: 0.8787, Accuracy: 73.68%\n",
            "[50] Test Loss: 0.3622, Accuracy: 87.72%\n",
            "[51] Test Loss: 0.3468, Accuracy: 88.14%\n",
            "[52] Test Loss: 0.3427, Accuracy: 88.44%\n",
            "[53] Test Loss: 0.3339, Accuracy: 88.78%\n",
            "[54] Test Loss: 0.3366, Accuracy: 88.85%\n",
            "[55] Test Loss: 0.3327, Accuracy: 88.93%\n",
            "[56] Test Loss: 0.3403, Accuracy: 88.68%\n",
            "[57] Test Loss: 0.3406, Accuracy: 88.82%\n",
            "[58] Test Loss: 0.3308, Accuracy: 88.89%\n",
            "[59] Test Loss: 0.3460, Accuracy: 88.91%\n",
            "[60] Test Loss: 0.3499, Accuracy: 88.36%\n",
            "[61] Test Loss: 0.3590, Accuracy: 88.31%\n",
            "[62] Test Loss: 0.3381, Accuracy: 89.05%\n",
            "[63] Test Loss: 0.3420, Accuracy: 88.71%\n",
            "[64] Test Loss: 0.3427, Accuracy: 89.21%\n",
            "[65] Test Loss: 0.3464, Accuracy: 88.82%\n",
            "[66] Test Loss: 0.3536, Accuracy: 88.47%\n",
            "[67] Test Loss: 0.3579, Accuracy: 88.40%\n",
            "[68] Test Loss: 0.3525, Accuracy: 88.74%\n",
            "[69] Test Loss: 0.3477, Accuracy: 88.70%\n",
            "[70] Test Loss: 0.3664, Accuracy: 88.45%\n",
            "[71] Test Loss: 0.3532, Accuracy: 88.22%\n",
            "[72] Test Loss: 0.3598, Accuracy: 88.90%\n",
            "[73] Test Loss: 0.3805, Accuracy: 87.96%\n",
            "[74] Test Loss: 0.3643, Accuracy: 88.05%\n",
            "[75] Test Loss: 0.3431, Accuracy: 88.76%\n",
            "[76] Test Loss: 0.3558, Accuracy: 88.51%\n",
            "[77] Test Loss: 0.3734, Accuracy: 88.09%\n",
            "[78] Test Loss: 0.3585, Accuracy: 88.23%\n",
            "[79] Test Loss: 0.3558, Accuracy: 88.57%\n",
            "[80] Test Loss: 0.3889, Accuracy: 87.94%\n",
            "[81] Test Loss: 0.4233, Accuracy: 86.88%\n",
            "[82] Test Loss: 0.3940, Accuracy: 87.30%\n",
            "[83] Test Loss: 0.3608, Accuracy: 88.45%\n",
            "[84] Test Loss: 0.4070, Accuracy: 87.37%\n",
            "[85] Test Loss: 0.4044, Accuracy: 86.87%\n",
            "[86] Test Loss: 0.3769, Accuracy: 87.91%\n",
            "[87] Test Loss: 0.3583, Accuracy: 88.92%\n",
            "[88] Test Loss: 0.3998, Accuracy: 87.41%\n",
            "[89] Test Loss: 0.3494, Accuracy: 88.45%\n",
            "[90] Test Loss: 0.3730, Accuracy: 87.92%\n",
            "[91] Test Loss: 0.3566, Accuracy: 88.62%\n",
            "[92] Test Loss: 0.3726, Accuracy: 88.21%\n",
            "[93] Test Loss: 0.3817, Accuracy: 87.91%\n",
            "[94] Test Loss: 0.4042, Accuracy: 87.43%\n",
            "[95] Test Loss: 0.4368, Accuracy: 86.42%\n",
            "[96] Test Loss: 0.4103, Accuracy: 87.04%\n",
            "[97] Test Loss: 0.3662, Accuracy: 88.03%\n",
            "[98] Test Loss: 0.4119, Accuracy: 87.31%\n",
            "[99] Test Loss: 0.4154, Accuracy: 86.42%\n",
            "[100] Test Loss: 0.3028, Accuracy: 90.12%\n",
            "[101] Test Loss: 0.3052, Accuracy: 89.85%\n",
            "[102] Test Loss: 0.2965, Accuracy: 90.13%\n",
            "[103] Test Loss: 0.2956, Accuracy: 90.30%\n",
            "[104] Test Loss: 0.2943, Accuracy: 90.32%\n",
            "[105] Test Loss: 0.2905, Accuracy: 90.46%\n",
            "[106] Test Loss: 0.2915, Accuracy: 90.32%\n",
            "[107] Test Loss: 0.2918, Accuracy: 90.53%\n",
            "[108] Test Loss: 0.2917, Accuracy: 90.54%\n",
            "[109] Test Loss: 0.2929, Accuracy: 90.33%\n",
            "[110] Test Loss: 0.2964, Accuracy: 90.38%\n",
            "[111] Test Loss: 0.2941, Accuracy: 90.52%\n",
            "[112] Test Loss: 0.2934, Accuracy: 90.47%\n",
            "[113] Test Loss: 0.2979, Accuracy: 90.40%\n",
            "[114] Test Loss: 0.2942, Accuracy: 90.41%\n",
            "[115] Test Loss: 0.2965, Accuracy: 90.61%\n",
            "[116] Test Loss: 0.2975, Accuracy: 90.50%\n",
            "[117] Test Loss: 0.3015, Accuracy: 90.46%\n",
            "[118] Test Loss: 0.2956, Accuracy: 90.71%\n",
            "[119] Test Loss: 0.2961, Accuracy: 90.62%\n",
            "[120] Test Loss: 0.2985, Accuracy: 90.67%\n",
            "[121] Test Loss: 0.3000, Accuracy: 90.68%\n",
            "[122] Test Loss: 0.2952, Accuracy: 90.59%\n",
            "[123] Test Loss: 0.3009, Accuracy: 90.67%\n",
            "[124] Test Loss: 0.2957, Accuracy: 90.84%\n",
            "[125] Test Loss: 0.2988, Accuracy: 90.77%\n",
            "[126] Test Loss: 0.3022, Accuracy: 90.71%\n",
            "[127] Test Loss: 0.3000, Accuracy: 90.67%\n",
            "[128] Test Loss: 0.3021, Accuracy: 90.70%\n",
            "[129] Test Loss: 0.2988, Accuracy: 90.67%\n",
            "[130] Test Loss: 0.3001, Accuracy: 90.66%\n",
            "[131] Test Loss: 0.3027, Accuracy: 90.46%\n",
            "[132] Test Loss: 0.3033, Accuracy: 90.60%\n",
            "[133] Test Loss: 0.3033, Accuracy: 90.60%\n",
            "[134] Test Loss: 0.3053, Accuracy: 90.66%\n",
            "[135] Test Loss: 0.3061, Accuracy: 90.74%\n",
            "[136] Test Loss: 0.3054, Accuracy: 90.86%\n",
            "[137] Test Loss: 0.3022, Accuracy: 90.68%\n",
            "[138] Test Loss: 0.3089, Accuracy: 90.56%\n",
            "[139] Test Loss: 0.3057, Accuracy: 90.54%\n",
            "[140] Test Loss: 0.3072, Accuracy: 90.67%\n",
            "[141] Test Loss: 0.3104, Accuracy: 90.70%\n",
            "[142] Test Loss: 0.3128, Accuracy: 90.44%\n",
            "[143] Test Loss: 0.3137, Accuracy: 90.43%\n",
            "[144] Test Loss: 0.3090, Accuracy: 90.67%\n",
            "[145] Test Loss: 0.3111, Accuracy: 90.55%\n",
            "[146] Test Loss: 0.3079, Accuracy: 90.61%\n",
            "[147] Test Loss: 0.3073, Accuracy: 90.69%\n",
            "[148] Test Loss: 0.3126, Accuracy: 90.48%\n",
            "[149] Test Loss: 0.3115, Accuracy: 90.66%\n",
            "[150] Test Loss: 0.3102, Accuracy: 90.78%\n",
            "[151] Test Loss: 0.3114, Accuracy: 90.50%\n",
            "[152] Test Loss: 0.3101, Accuracy: 90.69%\n",
            "[153] Test Loss: 0.3086, Accuracy: 90.67%\n",
            "[154] Test Loss: 0.3105, Accuracy: 90.67%\n",
            "[155] Test Loss: 0.3071, Accuracy: 90.77%\n",
            "[156] Test Loss: 0.3110, Accuracy: 90.71%\n",
            "[157] Test Loss: 0.3104, Accuracy: 90.66%\n",
            "[158] Test Loss: 0.3131, Accuracy: 90.66%\n",
            "[159] Test Loss: 0.3082, Accuracy: 90.74%\n",
            "[160] Test Loss: 0.3101, Accuracy: 90.63%\n",
            "[161] Test Loss: 0.3093, Accuracy: 90.76%\n",
            "[162] Test Loss: 0.3107, Accuracy: 90.75%\n",
            "[163] Test Loss: 0.3083, Accuracy: 90.75%\n",
            "[164] Test Loss: 0.3061, Accuracy: 90.80%\n",
            "[165] Test Loss: 0.3091, Accuracy: 90.75%\n",
            "[166] Test Loss: 0.3097, Accuracy: 90.67%\n",
            "[167] Test Loss: 0.3121, Accuracy: 90.68%\n",
            "[168] Test Loss: 0.3066, Accuracy: 90.55%\n",
            "[169] Test Loss: 0.3069, Accuracy: 90.79%\n",
            "[170] Test Loss: 0.3061, Accuracy: 90.68%\n",
            "[171] Test Loss: 0.3078, Accuracy: 90.70%\n",
            "[172] Test Loss: 0.3108, Accuracy: 90.68%\n",
            "[173] Test Loss: 0.3106, Accuracy: 90.71%\n",
            "[174] Test Loss: 0.3110, Accuracy: 90.74%\n",
            "[175] Test Loss: 0.3088, Accuracy: 90.69%\n",
            "[176] Test Loss: 0.3075, Accuracy: 90.62%\n",
            "[177] Test Loss: 0.3098, Accuracy: 90.69%\n",
            "[178] Test Loss: 0.3088, Accuracy: 90.67%\n",
            "[179] Test Loss: 0.3085, Accuracy: 90.61%\n",
            "[180] Test Loss: 0.3076, Accuracy: 90.67%\n",
            "[181] Test Loss: 0.3110, Accuracy: 90.67%\n",
            "[182] Test Loss: 0.3119, Accuracy: 90.66%\n",
            "[183] Test Loss: 0.3097, Accuracy: 90.76%\n",
            "[184] Test Loss: 0.3093, Accuracy: 90.78%\n",
            "[185] Test Loss: 0.3109, Accuracy: 90.77%\n",
            "[186] Test Loss: 0.3086, Accuracy: 90.68%\n",
            "[187] Test Loss: 0.3110, Accuracy: 90.74%\n",
            "[188] Test Loss: 0.3131, Accuracy: 90.65%\n",
            "[189] Test Loss: 0.3095, Accuracy: 90.76%\n",
            "[190] Test Loss: 0.3103, Accuracy: 90.65%\n",
            "[191] Test Loss: 0.3115, Accuracy: 90.72%\n",
            "[192] Test Loss: 0.3083, Accuracy: 90.68%\n",
            "[193] Test Loss: 0.3125, Accuracy: 90.64%\n",
            "[194] Test Loss: 0.3111, Accuracy: 90.65%\n",
            "[195] Test Loss: 0.3122, Accuracy: 90.59%\n",
            "[196] Test Loss: 0.3125, Accuracy: 90.61%\n",
            "[197] Test Loss: 0.3129, Accuracy: 90.52%\n",
            "[198] Test Loss: 0.3102, Accuracy: 90.64%\n",
            "[199] Test Loss: 0.3114, Accuracy: 90.60%\n",
            "[200] Test Loss: 0.3115, Accuracy: 90.63%\n",
            "[201] Test Loss: 0.3124, Accuracy: 90.64%\n",
            "[202] Test Loss: 0.3151, Accuracy: 90.65%\n",
            "[203] Test Loss: 0.3105, Accuracy: 90.65%\n",
            "[204] Test Loss: 0.3104, Accuracy: 90.65%\n",
            "[205] Test Loss: 0.3125, Accuracy: 90.55%\n",
            "[206] Test Loss: 0.3119, Accuracy: 90.71%\n",
            "[207] Test Loss: 0.3124, Accuracy: 90.62%\n",
            "[208] Test Loss: 0.3110, Accuracy: 90.69%\n",
            "[209] Test Loss: 0.3146, Accuracy: 90.67%\n",
            "[210] Test Loss: 0.3119, Accuracy: 90.73%\n",
            "[211] Test Loss: 0.3117, Accuracy: 90.67%\n",
            "[212] Test Loss: 0.3111, Accuracy: 90.68%\n",
            "[213] Test Loss: 0.3104, Accuracy: 90.69%\n",
            "[214] Test Loss: 0.3120, Accuracy: 90.69%\n",
            "[215] Test Loss: 0.3114, Accuracy: 90.72%\n",
            "[216] Test Loss: 0.3131, Accuracy: 90.75%\n",
            "[217] Test Loss: 0.3109, Accuracy: 90.63%\n",
            "[218] Test Loss: 0.3126, Accuracy: 90.68%\n",
            "[219] Test Loss: 0.3126, Accuracy: 90.66%\n",
            "[220] Test Loss: 0.3116, Accuracy: 90.67%\n",
            "[221] Test Loss: 0.3138, Accuracy: 90.62%\n",
            "[222] Test Loss: 0.3125, Accuracy: 90.70%\n",
            "[223] Test Loss: 0.3119, Accuracy: 90.70%\n",
            "[224] Test Loss: 0.3116, Accuracy: 90.77%\n",
            "[225] Test Loss: 0.3130, Accuracy: 90.53%\n",
            "[226] Test Loss: 0.3145, Accuracy: 90.56%\n",
            "[227] Test Loss: 0.3115, Accuracy: 90.66%\n",
            "[228] Test Loss: 0.3096, Accuracy: 90.75%\n",
            "[229] Test Loss: 0.3104, Accuracy: 90.62%\n",
            "[230] Test Loss: 0.3110, Accuracy: 90.68%\n",
            "[231] Test Loss: 0.3128, Accuracy: 90.73%\n",
            "[232] Test Loss: 0.3119, Accuracy: 90.68%\n",
            "[233] Test Loss: 0.3114, Accuracy: 90.67%\n",
            "[234] Test Loss: 0.3133, Accuracy: 90.60%\n",
            "[235] Test Loss: 0.3101, Accuracy: 90.75%\n",
            "[236] Test Loss: 0.3099, Accuracy: 90.74%\n",
            "[237] Test Loss: 0.3100, Accuracy: 90.69%\n",
            "[238] Test Loss: 0.3098, Accuracy: 90.70%\n",
            "[239] Test Loss: 0.3113, Accuracy: 90.77%\n",
            "[240] Test Loss: 0.3105, Accuracy: 90.73%\n",
            "[241] Test Loss: 0.3125, Accuracy: 90.64%\n",
            "[242] Test Loss: 0.3122, Accuracy: 90.58%\n",
            "[243] Test Loss: 0.3137, Accuracy: 90.57%\n",
            "[244] Test Loss: 0.3109, Accuracy: 90.78%\n",
            "[245] Test Loss: 0.3155, Accuracy: 90.69%\n",
            "[246] Test Loss: 0.3125, Accuracy: 90.73%\n",
            "[247] Test Loss: 0.3122, Accuracy: 90.67%\n",
            "[248] Test Loss: 0.3112, Accuracy: 90.66%\n",
            "[249] Test Loss: 0.3118, Accuracy: 90.62%\n",
            "[250] Test Loss: 0.3098, Accuracy: 90.76%\n",
            "[251] Test Loss: 0.3105, Accuracy: 90.73%\n",
            "[252] Test Loss: 0.3110, Accuracy: 90.71%\n",
            "[253] Test Loss: 0.3106, Accuracy: 90.62%\n",
            "[254] Test Loss: 0.3097, Accuracy: 90.72%\n",
            "[255] Test Loss: 0.3140, Accuracy: 90.74%\n",
            "[256] Test Loss: 0.3138, Accuracy: 90.66%\n",
            "[257] Test Loss: 0.3116, Accuracy: 90.73%\n",
            "[258] Test Loss: 0.3106, Accuracy: 90.69%\n",
            "[259] Test Loss: 0.3127, Accuracy: 90.63%\n",
            "[260] Test Loss: 0.3108, Accuracy: 90.71%\n",
            "[261] Test Loss: 0.3114, Accuracy: 90.61%\n",
            "[262] Test Loss: 0.3106, Accuracy: 90.63%\n",
            "[263] Test Loss: 0.3114, Accuracy: 90.67%\n",
            "[264] Test Loss: 0.3123, Accuracy: 90.74%\n",
            "[265] Test Loss: 0.3120, Accuracy: 90.70%\n",
            "[266] Test Loss: 0.3138, Accuracy: 90.74%\n",
            "[267] Test Loss: 0.3115, Accuracy: 90.65%\n",
            "[268] Test Loss: 0.3116, Accuracy: 90.69%\n",
            "[269] Test Loss: 0.3111, Accuracy: 90.80%\n",
            "[270] Test Loss: 0.3117, Accuracy: 90.64%\n",
            "[271] Test Loss: 0.3111, Accuracy: 90.70%\n",
            "[272] Test Loss: 0.3101, Accuracy: 90.81%\n",
            "[273] Test Loss: 0.3115, Accuracy: 90.69%\n",
            "[274] Test Loss: 0.3119, Accuracy: 90.66%\n",
            "[275] Test Loss: 0.3116, Accuracy: 90.66%\n",
            "[276] Test Loss: 0.3104, Accuracy: 90.73%\n",
            "[277] Test Loss: 0.3134, Accuracy: 90.69%\n",
            "[278] Test Loss: 0.3106, Accuracy: 90.72%\n",
            "[279] Test Loss: 0.3114, Accuracy: 90.75%\n",
            "[280] Test Loss: 0.3095, Accuracy: 90.70%\n",
            "[281] Test Loss: 0.3111, Accuracy: 90.69%\n",
            "[282] Test Loss: 0.3124, Accuracy: 90.71%\n",
            "[283] Test Loss: 0.3120, Accuracy: 90.67%\n",
            "[284] Test Loss: 0.3100, Accuracy: 90.74%\n",
            "[285] Test Loss: 0.3123, Accuracy: 90.74%\n",
            "[286] Test Loss: 0.3119, Accuracy: 90.72%\n",
            "[287] Test Loss: 0.3106, Accuracy: 90.69%\n",
            "[288] Test Loss: 0.3123, Accuracy: 90.70%\n",
            "[289] Test Loss: 0.3100, Accuracy: 90.68%\n",
            "[290] Test Loss: 0.3115, Accuracy: 90.72%\n",
            "[291] Test Loss: 0.3125, Accuracy: 90.72%\n",
            "[292] Test Loss: 0.3127, Accuracy: 90.72%\n",
            "[293] Test Loss: 0.3123, Accuracy: 90.69%\n",
            "[294] Test Loss: 0.3116, Accuracy: 90.68%\n",
            "[295] Test Loss: 0.3098, Accuracy: 90.76%\n",
            "[296] Test Loss: 0.3123, Accuracy: 90.82%\n",
            "[297] Test Loss: 0.3119, Accuracy: 90.69%\n",
            "[298] Test Loss: 0.3120, Accuracy: 90.74%\n",
            "[299] Test Loss: 0.3117, Accuracy: 90.55%\n",
            "[300] Test Loss: 0.3117, Accuracy: 90.73%\n"
          ]
        }
      ],
      "source": [
        "for epoch in range(1, EPOCHS + 1):\n",
        "    scheduler.step()  # scheduler.step()으로 학습률을 조금 낮춰주는 단계가 추가\n",
        "    train(model, train_loader, optimizer, epoch)\n",
        "    test_loss, test_accuracy = evaluate(model, test_loader)\n",
        "    \n",
        "    print('[{}] Test Loss: {:.4f}, Accuracy: {:.2f}%'.format(\n",
        "          epoch, test_loss, test_accuracy))"
      ]
    },
    {
      "cell_type": "markdown",
      "source": [
        "* 성능은 90% 정도\n",
        "* CIFAR-10은 성능을 충분히 올리기엔 비교적 작은 데이터셋이기 때문\n",
        "* 더 큰 데이터셋을 사용하여 학습 데이터를 늘리면 오차가 훨씬 작아짐"
      ],
      "metadata": {
        "id": "xkyOr7lxmsNg"
      },
      "id": "xkyOr7lxmsNg"
    },
    {
      "cell_type": "code",
      "source": [
        "strides = [1]+[1]\n",
        "for stride in strides:\n",
        "  print(stride)"
      ],
      "metadata": {
        "colab": {
          "base_uri": "https://localhost:8080/"
        },
        "id": "_BI1goGkvDhM",
        "outputId": "c02cdfb1-40a6-440f-a258-1e61d5c48a3c"
      },
      "id": "_BI1goGkvDhM",
      "execution_count": null,
      "outputs": [
        {
          "output_type": "stream",
          "name": "stdout",
          "text": [
            "1\n",
            "1\n"
          ]
        }
      ]
    },
    {
      "cell_type": "code",
      "source": [
        "strides = [2]+[1]\n",
        "for stride in strides:\n",
        "  print(stride)\n"
      ],
      "metadata": {
        "colab": {
          "base_uri": "https://localhost:8080/"
        },
        "id": "WjQMbPVlvSUk",
        "outputId": "4c88416f-aa22-4f69-ba34-7e50f3da123d"
      },
      "id": "WjQMbPVlvSUk",
      "execution_count": null,
      "outputs": [
        {
          "output_type": "stream",
          "name": "stdout",
          "text": [
            "2\n",
            "1\n"
          ]
        }
      ]
    }
  ],
  "metadata": {
    "kernelspec": {
      "display_name": "Python 3 (ipykernel)",
      "language": "python",
      "name": "python3"
    },
    "language_info": {
      "codemirror_mode": {
        "name": "ipython",
        "version": 3
      },
      "file_extension": ".py",
      "mimetype": "text/x-python",
      "name": "python",
      "nbconvert_exporter": "python",
      "pygments_lexer": "ipython3",
      "version": "3.9.7"
    },
    "colab": {
      "name": "Resnet.ipynb",
      "provenance": [],
      "collapsed_sections": [],
      "toc_visible": true,
      "include_colab_link": true
    },
    "accelerator": "GPU",
    "gpuClass": "standard",
    "widgets": {
      "application/vnd.jupyter.widget-state+json": {
        "fdfa1c7b79f9465aac5cff1f561784f1": {
          "model_module": "@jupyter-widgets/controls",
          "model_name": "HBoxModel",
          "model_module_version": "1.5.0",
          "state": {
            "_dom_classes": [],
            "_model_module": "@jupyter-widgets/controls",
            "_model_module_version": "1.5.0",
            "_model_name": "HBoxModel",
            "_view_count": null,
            "_view_module": "@jupyter-widgets/controls",
            "_view_module_version": "1.5.0",
            "_view_name": "HBoxView",
            "box_style": "",
            "children": [
              "IPY_MODEL_423796e7cc724c72bf054509abe3035c",
              "IPY_MODEL_0ac0dd1892634d48ba77f54a408502b4",
              "IPY_MODEL_3da1203e33f349fab86df50a5fe6df52"
            ],
            "layout": "IPY_MODEL_b34d15b9f2a3474f9fd47afe31a5d930"
          }
        },
        "423796e7cc724c72bf054509abe3035c": {
          "model_module": "@jupyter-widgets/controls",
          "model_name": "HTMLModel",
          "model_module_version": "1.5.0",
          "state": {
            "_dom_classes": [],
            "_model_module": "@jupyter-widgets/controls",
            "_model_module_version": "1.5.0",
            "_model_name": "HTMLModel",
            "_view_count": null,
            "_view_module": "@jupyter-widgets/controls",
            "_view_module_version": "1.5.0",
            "_view_name": "HTMLView",
            "description": "",
            "description_tooltip": null,
            "layout": "IPY_MODEL_b30d94753122483faec77fcdd4ff6835",
            "placeholder": "​",
            "style": "IPY_MODEL_6ca99abed1964dfdad2fe8472f987413",
            "value": "100%"
          }
        },
        "0ac0dd1892634d48ba77f54a408502b4": {
          "model_module": "@jupyter-widgets/controls",
          "model_name": "FloatProgressModel",
          "model_module_version": "1.5.0",
          "state": {
            "_dom_classes": [],
            "_model_module": "@jupyter-widgets/controls",
            "_model_module_version": "1.5.0",
            "_model_name": "FloatProgressModel",
            "_view_count": null,
            "_view_module": "@jupyter-widgets/controls",
            "_view_module_version": "1.5.0",
            "_view_name": "ProgressView",
            "bar_style": "success",
            "description": "",
            "description_tooltip": null,
            "layout": "IPY_MODEL_5fc3486f026a4744a8fd1f23bf760bd9",
            "max": 170498071,
            "min": 0,
            "orientation": "horizontal",
            "style": "IPY_MODEL_dcd676bcb9f144ccaad6bb3a911fc435",
            "value": 170498071
          }
        },
        "3da1203e33f349fab86df50a5fe6df52": {
          "model_module": "@jupyter-widgets/controls",
          "model_name": "HTMLModel",
          "model_module_version": "1.5.0",
          "state": {
            "_dom_classes": [],
            "_model_module": "@jupyter-widgets/controls",
            "_model_module_version": "1.5.0",
            "_model_name": "HTMLModel",
            "_view_count": null,
            "_view_module": "@jupyter-widgets/controls",
            "_view_module_version": "1.5.0",
            "_view_name": "HTMLView",
            "description": "",
            "description_tooltip": null,
            "layout": "IPY_MODEL_d28eafda4a894c07a79e0eeb6b51967a",
            "placeholder": "​",
            "style": "IPY_MODEL_ac82ac030036457e9a2ec6710bd021fc",
            "value": " 170498071/170498071 [00:13&lt;00:00, 13664865.95it/s]"
          }
        },
        "b34d15b9f2a3474f9fd47afe31a5d930": {
          "model_module": "@jupyter-widgets/base",
          "model_name": "LayoutModel",
          "model_module_version": "1.2.0",
          "state": {
            "_model_module": "@jupyter-widgets/base",
            "_model_module_version": "1.2.0",
            "_model_name": "LayoutModel",
            "_view_count": null,
            "_view_module": "@jupyter-widgets/base",
            "_view_module_version": "1.2.0",
            "_view_name": "LayoutView",
            "align_content": null,
            "align_items": null,
            "align_self": null,
            "border": null,
            "bottom": null,
            "display": null,
            "flex": null,
            "flex_flow": null,
            "grid_area": null,
            "grid_auto_columns": null,
            "grid_auto_flow": null,
            "grid_auto_rows": null,
            "grid_column": null,
            "grid_gap": null,
            "grid_row": null,
            "grid_template_areas": null,
            "grid_template_columns": null,
            "grid_template_rows": null,
            "height": null,
            "justify_content": null,
            "justify_items": null,
            "left": null,
            "margin": null,
            "max_height": null,
            "max_width": null,
            "min_height": null,
            "min_width": null,
            "object_fit": null,
            "object_position": null,
            "order": null,
            "overflow": null,
            "overflow_x": null,
            "overflow_y": null,
            "padding": null,
            "right": null,
            "top": null,
            "visibility": null,
            "width": null
          }
        },
        "b30d94753122483faec77fcdd4ff6835": {
          "model_module": "@jupyter-widgets/base",
          "model_name": "LayoutModel",
          "model_module_version": "1.2.0",
          "state": {
            "_model_module": "@jupyter-widgets/base",
            "_model_module_version": "1.2.0",
            "_model_name": "LayoutModel",
            "_view_count": null,
            "_view_module": "@jupyter-widgets/base",
            "_view_module_version": "1.2.0",
            "_view_name": "LayoutView",
            "align_content": null,
            "align_items": null,
            "align_self": null,
            "border": null,
            "bottom": null,
            "display": null,
            "flex": null,
            "flex_flow": null,
            "grid_area": null,
            "grid_auto_columns": null,
            "grid_auto_flow": null,
            "grid_auto_rows": null,
            "grid_column": null,
            "grid_gap": null,
            "grid_row": null,
            "grid_template_areas": null,
            "grid_template_columns": null,
            "grid_template_rows": null,
            "height": null,
            "justify_content": null,
            "justify_items": null,
            "left": null,
            "margin": null,
            "max_height": null,
            "max_width": null,
            "min_height": null,
            "min_width": null,
            "object_fit": null,
            "object_position": null,
            "order": null,
            "overflow": null,
            "overflow_x": null,
            "overflow_y": null,
            "padding": null,
            "right": null,
            "top": null,
            "visibility": null,
            "width": null
          }
        },
        "6ca99abed1964dfdad2fe8472f987413": {
          "model_module": "@jupyter-widgets/controls",
          "model_name": "DescriptionStyleModel",
          "model_module_version": "1.5.0",
          "state": {
            "_model_module": "@jupyter-widgets/controls",
            "_model_module_version": "1.5.0",
            "_model_name": "DescriptionStyleModel",
            "_view_count": null,
            "_view_module": "@jupyter-widgets/base",
            "_view_module_version": "1.2.0",
            "_view_name": "StyleView",
            "description_width": ""
          }
        },
        "5fc3486f026a4744a8fd1f23bf760bd9": {
          "model_module": "@jupyter-widgets/base",
          "model_name": "LayoutModel",
          "model_module_version": "1.2.0",
          "state": {
            "_model_module": "@jupyter-widgets/base",
            "_model_module_version": "1.2.0",
            "_model_name": "LayoutModel",
            "_view_count": null,
            "_view_module": "@jupyter-widgets/base",
            "_view_module_version": "1.2.0",
            "_view_name": "LayoutView",
            "align_content": null,
            "align_items": null,
            "align_self": null,
            "border": null,
            "bottom": null,
            "display": null,
            "flex": null,
            "flex_flow": null,
            "grid_area": null,
            "grid_auto_columns": null,
            "grid_auto_flow": null,
            "grid_auto_rows": null,
            "grid_column": null,
            "grid_gap": null,
            "grid_row": null,
            "grid_template_areas": null,
            "grid_template_columns": null,
            "grid_template_rows": null,
            "height": null,
            "justify_content": null,
            "justify_items": null,
            "left": null,
            "margin": null,
            "max_height": null,
            "max_width": null,
            "min_height": null,
            "min_width": null,
            "object_fit": null,
            "object_position": null,
            "order": null,
            "overflow": null,
            "overflow_x": null,
            "overflow_y": null,
            "padding": null,
            "right": null,
            "top": null,
            "visibility": null,
            "width": null
          }
        },
        "dcd676bcb9f144ccaad6bb3a911fc435": {
          "model_module": "@jupyter-widgets/controls",
          "model_name": "ProgressStyleModel",
          "model_module_version": "1.5.0",
          "state": {
            "_model_module": "@jupyter-widgets/controls",
            "_model_module_version": "1.5.0",
            "_model_name": "ProgressStyleModel",
            "_view_count": null,
            "_view_module": "@jupyter-widgets/base",
            "_view_module_version": "1.2.0",
            "_view_name": "StyleView",
            "bar_color": null,
            "description_width": ""
          }
        },
        "d28eafda4a894c07a79e0eeb6b51967a": {
          "model_module": "@jupyter-widgets/base",
          "model_name": "LayoutModel",
          "model_module_version": "1.2.0",
          "state": {
            "_model_module": "@jupyter-widgets/base",
            "_model_module_version": "1.2.0",
            "_model_name": "LayoutModel",
            "_view_count": null,
            "_view_module": "@jupyter-widgets/base",
            "_view_module_version": "1.2.0",
            "_view_name": "LayoutView",
            "align_content": null,
            "align_items": null,
            "align_self": null,
            "border": null,
            "bottom": null,
            "display": null,
            "flex": null,
            "flex_flow": null,
            "grid_area": null,
            "grid_auto_columns": null,
            "grid_auto_flow": null,
            "grid_auto_rows": null,
            "grid_column": null,
            "grid_gap": null,
            "grid_row": null,
            "grid_template_areas": null,
            "grid_template_columns": null,
            "grid_template_rows": null,
            "height": null,
            "justify_content": null,
            "justify_items": null,
            "left": null,
            "margin": null,
            "max_height": null,
            "max_width": null,
            "min_height": null,
            "min_width": null,
            "object_fit": null,
            "object_position": null,
            "order": null,
            "overflow": null,
            "overflow_x": null,
            "overflow_y": null,
            "padding": null,
            "right": null,
            "top": null,
            "visibility": null,
            "width": null
          }
        },
        "ac82ac030036457e9a2ec6710bd021fc": {
          "model_module": "@jupyter-widgets/controls",
          "model_name": "DescriptionStyleModel",
          "model_module_version": "1.5.0",
          "state": {
            "_model_module": "@jupyter-widgets/controls",
            "_model_module_version": "1.5.0",
            "_model_name": "DescriptionStyleModel",
            "_view_count": null,
            "_view_module": "@jupyter-widgets/base",
            "_view_module_version": "1.2.0",
            "_view_name": "StyleView",
            "description_width": ""
          }
        }
      }
    }
  },
  "nbformat": 4,
  "nbformat_minor": 5
}